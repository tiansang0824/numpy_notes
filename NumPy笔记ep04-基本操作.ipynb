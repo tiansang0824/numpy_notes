{
 "cells": [
  {
   "cell_type": "markdown",
   "metadata": {},
   "source": [
    "# NumPy笔记ep04-NumPy基本操作\n",
    "\n",
    "NumPy基本操作包括：索引、切片两个。\n"
   ]
  },
  {
   "cell_type": "markdown",
   "metadata": {},
   "source": [
    "## 1. 索引操作\n",
    "\n",
    "一维索引与列表完全一致，多维索引同理。\n"
   ]
  },
  {
   "cell_type": "code",
   "execution_count": 2,
   "metadata": {},
   "outputs": [],
   "source": [
    "import numpy as np"
   ]
  },
  {
   "cell_type": "code",
   "execution_count": 4,
   "metadata": {},
   "outputs": [
    {
     "data": {
      "text/plain": [
       "(1, 5)"
      ]
     },
     "execution_count": 4,
     "metadata": {},
     "output_type": "execute_result"
    }
   ],
   "source": [
    "\n",
    "l = [1, 2, 3, 4, 5]\n",
    "\n",
    "n = np.array(l)\n",
    "\n",
    "n[0], n[-1]"
   ]
  },
  {
   "cell_type": "code",
   "execution_count": 6,
   "metadata": {},
   "outputs": [
    {
     "data": {
      "text/plain": [
       "array([[8, 4, 1, 7, 5],\n",
       "       [0, 3, 5, 3, 6],\n",
       "       [1, 4, 7, 9, 8],\n",
       "       [0, 2, 1, 8, 8]])"
      ]
     },
     "execution_count": 6,
     "metadata": {},
     "output_type": "execute_result"
    }
   ],
   "source": [
    "# 产生一个随机的二维数组\n",
    "n = np.random.randint(0, 10, size=(4,5))\n",
    "\n",
    "n"
   ]
  },
  {
   "cell_type": "code",
   "execution_count": 9,
   "metadata": {},
   "outputs": [
    {
     "name": "stdout",
     "output_type": "stream",
     "text": [
      "8\n",
      "8\n",
      "8\n",
      "8\n"
     ]
    }
   ],
   "source": [
    "print(n[3][4])  # 最后一个数\n",
    "print(n[-1][-1])  # 换一种写法\n",
    "\n",
    "# 上面的写法可以简化为下面的样子：\n",
    "print(n[3, 4])\n",
    "print(n[-1, -1])"
   ]
  },
  {
   "cell_type": "markdown",
   "metadata": {},
   "source": [
    "对于三维数组的操作，与上面二维类似，这里不再赘述。"
   ]
  },
  {
   "cell_type": "markdown",
   "metadata": {},
   "source": [
    "## 2. 切片操作\n"
   ]
  },
  {
   "cell_type": "code",
   "execution_count": 11,
   "metadata": {},
   "outputs": [
    {
     "data": {
      "text/plain": [
       "[3, 4, 5, 6]"
      ]
     },
     "execution_count": 11,
     "metadata": {},
     "output_type": "execute_result"
    }
   ],
   "source": [
    "l = [1, 2, 3, 4, 5, 6, 7, 8, 9, 10]\n",
    "\n",
    "# Python列表的切片\n",
    "l[2:6]  # 会输出下标2到5的元素（左闭右开"
   ]
  },
  {
   "cell_type": "code",
   "execution_count": 12,
   "metadata": {},
   "outputs": [
    {
     "data": {
      "text/plain": [
       "[10, 9, 8, 7, 6, 5, 4, 3, 2, 1]"
      ]
     },
     "execution_count": 12,
     "metadata": {},
     "output_type": "execute_result"
    }
   ],
   "source": [
    "# Python列表切片\n",
    "l[::-1]  # 反转输出l"
   ]
  },
  {
   "cell_type": "markdown",
   "metadata": {},
   "source": [
    "NumPy中的ndarray数组的切片和list类似。\n"
   ]
  },
  {
   "cell_type": "code",
   "execution_count": 13,
   "metadata": {},
   "outputs": [
    {
     "data": {
      "text/plain": [
       "array([ 1,  2,  3,  4,  5,  6,  7,  8,  9, 10])"
      ]
     },
     "execution_count": 13,
     "metadata": {},
     "output_type": "execute_result"
    }
   ],
   "source": [
    "n = np.array(l)\n",
    "\n",
    "n"
   ]
  },
  {
   "cell_type": "code",
   "execution_count": 15,
   "metadata": {},
   "outputs": [
    {
     "data": {
      "text/plain": [
       "(array([3, 4, 5, 6]), array([10,  9,  8,  7,  6,  5,  4,  3,  2,  1]))"
      ]
     },
     "execution_count": 15,
     "metadata": {},
     "output_type": "execute_result"
    }
   ],
   "source": [
    "n[2:6], n[::-1]"
   ]
  },
  {
   "cell_type": "code",
   "execution_count": 19,
   "metadata": {},
   "outputs": [
    {
     "data": {
      "text/plain": [
       "array([[20, 26, 35, 46,  7, 47,  5, 30],\n",
       "       [17, 33, 21, 13, 28, 11, 36,  4],\n",
       "       [33, 11, 49, 18, 14, 38, 44, 40],\n",
       "       [46,  0, 28, 13, 38,  3, 15, 35],\n",
       "       [24, 45,  4, 41, 23, 11, 21, 13],\n",
       "       [32, 19, 13,  2,  6, 45, 40, 21]])"
      ]
     },
     "execution_count": 19,
     "metadata": {},
     "output_type": "execute_result"
    }
   ],
   "source": [
    "n = np.random.randint(0, 50, size=(6,8))  # 六行八列的随机数数组\n",
    "\n",
    "n"
   ]
  },
  {
   "cell_type": "code",
   "execution_count": 28,
   "metadata": {},
   "outputs": [
    {
     "name": "stdout",
     "output_type": "stream",
     "text": [
      "第三行数据:[33 11 49 18 14 38 44 40]\n",
      "第2-4行：[[17 33 21 13 28 11 36  4]\n",
      " [33 11 49 18 14 38 44 40]\n",
      " [46  0 28 13 38  3 15 35]]\n",
      "取第2、3、5行：[[17 33 21 13 28 11 36  4]\n",
      " [33 11 49 18 14 38 44 40]\n",
      " [33 11 49 18 14 38 44 40]\n",
      " [24 45  4 41 23 11 21 13]]\n"
     ]
    }
   ],
   "source": [
    "# 取一行数据\n",
    "print(f\"第三行数据:{n[2]}\")\n",
    "\n",
    "# 连续取多行（切片\n",
    "print(f\"第2-4行：{n[1:4]}\")\n",
    "\n",
    "# 取不连续的多行\n",
    "print(f'取第2、3、3、5行：{n[ [1,2,2,4] ]}')\n"
   ]
  },
  {
   "cell_type": "markdown",
   "metadata": {},
   "source": [
    "取列的操作会略有区别。"
   ]
  },
  {
   "cell_type": "code",
   "execution_count": null,
   "metadata": {},
   "outputs": [],
   "source": [
    "# 取一列\n",
    "print(f'n[0]')\n",
    "\n",
    "# 取连续多列\n",
    "\n",
    "# 取不连续的多列"
   ]
  }
 ],
 "metadata": {
  "kernelspec": {
   "display_name": "Python 3",
   "language": "python",
   "name": "python3"
  },
  "language_info": {
   "codemirror_mode": {
    "name": "ipython",
    "version": 3
   },
   "file_extension": ".py",
   "mimetype": "text/x-python",
   "name": "python",
   "nbconvert_exporter": "python",
   "pygments_lexer": "ipython3",
   "version": "3.12.3"
  }
 },
 "nbformat": 4,
 "nbformat_minor": 2
}
