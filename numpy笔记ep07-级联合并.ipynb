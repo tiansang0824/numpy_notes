{
 "cells": [
  {
   "cell_type": "markdown",
   "metadata": {},
   "source": [
    "# 级联\n"
   ]
  },
  {
   "cell_type": "markdown",
   "metadata": {},
   "source": [
    "np.concatenate()\n",
    "\n",
    "- 参数是列表或者元组\n",
    "- 级联的数组维度必须相同\n",
    "- 可以通过axis参数改变级联的方向\n"
   ]
  },
  {
   "cell_type": "code",
   "execution_count": 1,
   "metadata": {},
   "outputs": [],
   "source": [
    "import numpy as np"
   ]
  },
  {
   "cell_type": "code",
   "execution_count": 3,
   "metadata": {},
   "outputs": [
    {
     "name": "stdout",
     "output_type": "stream",
     "text": [
      "n1:[[29  4 27  2 65]\n",
      " [58 41 21 78 81]\n",
      " [65 79 96 18 11]]\n",
      "n2:[[67 68 31 38 89]\n",
      " [86 54 86 52 75]\n",
      " [52 94 24 99 66]]\n"
     ]
    }
   ],
   "source": [
    "n1 = np.random.randint(0, 100, size=(3, 5))\n",
    "n2 = np.random.randint(0, 100, size=(3, 5))\n",
    "\n",
    "print(f\"n1:{n1}\")\n",
    "print(f\"n2:{n2}\")"
   ]
  },
  {
   "cell_type": "code",
   "execution_count": 4,
   "metadata": {},
   "outputs": [
    {
     "data": {
      "text/plain": [
       "array([[29,  4, 27,  2, 65],\n",
       "       [58, 41, 21, 78, 81],\n",
       "       [65, 79, 96, 18, 11],\n",
       "       [67, 68, 31, 38, 89],\n",
       "       [86, 54, 86, 52, 75],\n",
       "       [52, 94, 24, 99, 66]])"
      ]
     },
     "execution_count": 4,
     "metadata": {},
     "output_type": "execute_result"
    }
   ],
   "source": [
    "# 级联合并\n",
    "np.concatenate((n1,n2))"
   ]
  },
  {
   "cell_type": "markdown",
   "metadata": {},
   "source": [
    "可以看出，默认情况下是上下合并/级联的。\n"
   ]
  },
  {
   "cell_type": "code",
   "execution_count": 5,
   "metadata": {},
   "outputs": [
    {
     "data": {
      "text/plain": [
       "array([[29,  4, 27,  2, 65],\n",
       "       [58, 41, 21, 78, 81],\n",
       "       [65, 79, 96, 18, 11],\n",
       "       [67, 68, 31, 38, 89],\n",
       "       [86, 54, 86, 52, 75],\n",
       "       [52, 94, 24, 99, 66]])"
      ]
     },
     "execution_count": 5,
     "metadata": {},
     "output_type": "execute_result"
    }
   ],
   "source": [
    "# 水平方向级联合并\n",
    "np.concatenate(\n",
    "    (n1, n2), axis=0\n",
    ")  # axis=0表示第一个维度，也就是行，所以是在行的角度进行合并。"
   ]
  },
  {
   "cell_type": "code",
   "execution_count": 6,
   "metadata": {},
   "outputs": [
    {
     "data": {
      "text/plain": [
       "array([[29,  4, 27,  2, 65, 67, 68, 31, 38, 89],\n",
       "       [58, 41, 21, 78, 81, 86, 54, 86, 52, 75],\n",
       "       [65, 79, 96, 18, 11, 52, 94, 24, 99, 66]])"
      ]
     },
     "execution_count": 6,
     "metadata": {},
     "output_type": "execute_result"
    }
   ],
   "source": [
    "# 水平方向级联合并\n",
    "np.concatenate(\n",
    "    (n1, n2), axis=1\n",
    ")  # axis=1表示第二个维度，也就是列"
   ]
  },
  {
   "cell_type": "markdown",
   "metadata": {},
   "source": [
    "此外，使用`np.hstack`和`np.vstack()`也可以实现级联合并效果，用法一样，此处不做赘述。"
   ]
  },
  {
   "cell_type": "markdown",
   "metadata": {},
   "source": []
  }
 ],
 "metadata": {
  "kernelspec": {
   "display_name": "Python 3",
   "language": "python",
   "name": "python3"
  },
  "language_info": {
   "codemirror_mode": {
    "name": "ipython",
    "version": 3
   },
   "file_extension": ".py",
   "mimetype": "text/x-python",
   "name": "python",
   "nbconvert_exporter": "python",
   "pygments_lexer": "ipython3",
   "version": "3.12.3"
  }
 },
 "nbformat": 4,
 "nbformat_minor": 2
}
