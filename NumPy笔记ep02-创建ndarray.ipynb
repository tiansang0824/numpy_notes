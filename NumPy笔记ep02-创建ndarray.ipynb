{
 "cells": [
  {
   "cell_type": "markdown",
   "metadata": {},
   "source": [
    "# NumPy笔记ep02-创建ndarray数组"
   ]
  },
  {
   "cell_type": "markdown",
   "metadata": {},
   "source": [
    "NumPy中的数组也叫做多维数组，创建方式有很多，下面是一部分枚举：\n",
    "1. 使用np.array()函数，由python list创建：`n = np.array(list)`；\n",
    "2. 使用np的常规函数实现\n",
    "    1. np.ones()\n",
    "    2. np.zeros()\n",
    "    3. np.full()\n",
    "    4. np.eye()\n",
    "    5. np.linspace()\n",
    "    6. np.arange()\n",
    "    7. np.random.randint()\n",
    "    8. np.random.randn()\n",
    "    9. np.random.normal()\n",
    "    10. np.random.random()\n",
    "    11. np.random.rand()"
   ]
  },
  {
   "cell_type": "code",
   "execution_count": 2,
   "metadata": {},
   "outputs": [],
   "source": [
    "# 导包\n",
    "import numpy as np\n",
    "import pandas as pd\n",
    "import matplotlib.pyplot as plt"
   ]
  },
  {
   "cell_type": "markdown",
   "metadata": {},
   "source": [
    "### 使用列表创建数组"
   ]
  },
  {
   "cell_type": "code",
   "execution_count": 3,
   "metadata": {},
   "outputs": [
    {
     "data": {
      "text/plain": [
       "array([1, 2, 3, 4, 5])"
      ]
     },
     "execution_count": 3,
     "metadata": {},
     "output_type": "execute_result"
    }
   ],
   "source": [
    "l = [1,2,3,4,5]\n",
    "n = np.array(l)\n",
    "\n",
    "n"
   ]
  },
  {
   "cell_type": "markdown",
   "metadata": {},
   "source": []
  },
  {
   "cell_type": "code",
   "execution_count": 4,
   "metadata": {},
   "outputs": [
    {
     "data": {
      "text/plain": [
       "numpy.ndarray"
      ]
     },
     "execution_count": 4,
     "metadata": {},
     "output_type": "execute_result"
    }
   ],
   "source": [
    "# 查看类型\n",
    "type(n)"
   ]
  },
  {
   "cell_type": "markdown",
   "metadata": {},
   "source": [
    "通过`shape`这个属性，可以查看NumPy数组的形状，通常返回一个元组，元组中的元素个数就是数组的维度。\n",
    "\n",
    "- NumPy中默认ndarray的所有元素类型是相同的；\n",
    "- 如果传进来的列表中包含不同的类型，则会统一为同一类型，优先级：str>float>int>bool\n",
    "- ndarray的常见数据类型：\n",
    "    - int：int8、uint8、int16、int32、int64；\n",
    "    - float：float16、float32、flooat64；\n",
    "    - str：字符串"
   ]
  },
  {
   "cell_type": "code",
   "execution_count": null,
   "metadata": {},
   "outputs": [
    {
     "data": {
      "text/plain": [
       "(5,)"
      ]
     },
     "execution_count": 6,
     "metadata": {},
     "output_type": "execute_result"
    }
   ],
   "source": [
    "# 查看形状\n",
    "n.shape"
   ]
  },
  {
   "cell_type": "markdown",
   "metadata": {},
   "source": [
    "### 使用NumPy的routines函数创建\n",
    "\n",
    "#### np.ones(shape, dtype=None, order='C')\n",
    "\n",
    "创建一个所有元素都是1的多维数组，其中：\n",
    "\n",
    "- shape：数组的形状\n",
    "- dtype：数组元素的数据类型\n",
    "- order：数组的存储顺序，默认为C，即从左到右，从上到下存储，也可以为F，即从上到下，从左到右存储"
   ]
  },
  {
   "cell_type": "code",
   "execution_count": 11,
   "metadata": {},
   "outputs": [
    {
     "name": "stdout",
     "output_type": "stream",
     "text": [
      "[[1. 1. 1. 1.]\n",
      " [1. 1. 1. 1.]\n",
      " [1. 1. 1. 1.]]\n"
     ]
    }
   ],
   "source": [
    "n = np.ones(shape=(3,4))  # 创建一个3维的数组，元素全为1\n",
    "print(f'{n}')"
   ]
  },
  {
   "cell_type": "code",
   "execution_count": 14,
   "metadata": {},
   "outputs": [
    {
     "name": "stdout",
     "output_type": "stream",
     "text": [
      "[[[1 1 1 1 1]\n",
      "  [1 1 1 1 1]\n",
      "  [1 1 1 1 1]\n",
      "  [1 1 1 1 1]]\n",
      "\n",
      " [[1 1 1 1 1]\n",
      "  [1 1 1 1 1]\n",
      "  [1 1 1 1 1]\n",
      "  [1 1 1 1 1]]\n",
      "\n",
      " [[1 1 1 1 1]\n",
      "  [1 1 1 1 1]\n",
      "  [1 1 1 1 1]\n",
      "  [1 1 1 1 1]]]\n"
     ]
    }
   ],
   "source": [
    "# 也可以创建一个内容为整数的数组\n",
    "n = np.ones(shape=(3, 4, 5), dtype=np.int32)\n",
    "print(f\"{n}\")"
   ]
  },
  {
   "cell_type": "markdown",
   "metadata": {},
   "source": [
    "#### np.zeros(shape, detype=None, order='C')\n",
    "\n",
    "创建一个指定形状的数组，元素全部为0\n",
    "\n",
    "参数：\n",
    "- shape：数组形状，可以是一个整数，也可以是一个元组\n",
    "- dtype：数组元素的数据类型，默认为float64\n",
    "- order：数组的存储顺序，默认为C，表示按列存储"
   ]
  },
  {
   "cell_type": "code",
   "execution_count": 16,
   "metadata": {},
   "outputs": [
    {
     "data": {
      "text/plain": [
       "array([[0., 0., 0., 0., 0.],\n",
       "       [0., 0., 0., 0., 0.],\n",
       "       [0., 0., 0., 0., 0.],\n",
       "       [0., 0., 0., 0., 0.],\n",
       "       [0., 0., 0., 0., 0.]])"
      ]
     },
     "execution_count": 16,
     "metadata": {},
     "output_type": "execute_result"
    }
   ],
   "source": [
    "n = np.zeros(shape=(5,5))\n",
    "n"
   ]
  },
  {
   "cell_type": "markdown",
   "metadata": {},
   "source": [
    "#### np.full(shape, fill_value, dtype=None, order='C')\n",
    "\n",
    "创建一个形状为shape的数组，元素全部为fill_value。"
   ]
  },
  {
   "cell_type": "code",
   "execution_count": 19,
   "metadata": {},
   "outputs": [
    {
     "data": {
      "text/plain": [
       "array([[10, 10, 10, 10],\n",
       "       [10, 10, 10, 10],\n",
       "       [10, 10, 10, 10]])"
      ]
     },
     "execution_count": 19,
     "metadata": {},
     "output_type": "execute_result"
    }
   ],
   "source": [
    "n = np.full(shape=(3, 4), fill_value=10, dtype=np.int32)  # 创建一个填满10的数组\n",
    "n"
   ]
  },
  {
   "cell_type": "markdown",
   "metadata": {},
   "source": [
    "#### np.eye(N, M=None, k=0, dtype=float)\n",
    "\n",
    "创建一个具有N行的单位矩阵\n",
    "\n",
    "参数：\n",
    "\n",
    "- N: 矩阵的行数\n",
    "- M: 矩阵的列数，默认为N\n",
    "- k: 矩阵的子对角线偏移量，默认为0\n",
    "- dtype: 矩阵的数据类型，默认为float"
   ]
  },
  {
   "cell_type": "code",
   "execution_count": 21,
   "metadata": {},
   "outputs": [
    {
     "data": {
      "text/plain": [
       "array([[1., 0., 0., 0., 0.],\n",
       "       [0., 1., 0., 0., 0.],\n",
       "       [0., 0., 1., 0., 0.],\n",
       "       [0., 0., 0., 1., 0.],\n",
       "       [0., 0., 0., 0., 1.]])"
      ]
     },
     "execution_count": 21,
     "metadata": {},
     "output_type": "execute_result"
    }
   ],
   "source": [
    "n = np.eye(N=5)\n",
    "n"
   ]
  },
  {
   "cell_type": "markdown",
   "metadata": {},
   "source": [
    "#### np.linspace(start, stop, num=50, endpoint=True, retstep=False, dtype=None, axis=0)\n",
    "\n",
    "创建一个等差数列\n",
    "\n",
    "参数：\n",
    "\n",
    "- start：数列的起始值\n",
    "- stop：数列的终止值\n",
    "- num：数列的长度\n",
    "- endpoint：是否包含终止值\n",
    "- retstep：是否返回步长\n",
    "- dtype：数列的类型\n",
    "- axis：数列的轴"
   ]
  },
  {
   "cell_type": "code",
   "execution_count": 29,
   "metadata": {},
   "outputs": [
    {
     "data": {
      "text/plain": [
       "array([  0,   2,   4,   6,   8,  10,  12,  14,  16,  18,  20,  22,  24,\n",
       "        26,  28,  30,  32,  34,  36,  38,  40,  42,  44,  46,  48,  50,\n",
       "        52,  54,  56,  58,  60,  62,  64,  66,  68,  70,  72,  74,  76,\n",
       "        78,  80,  82,  84,  86,  88,  90,  92,  94,  96,  98, 100])"
      ]
     },
     "execution_count": 29,
     "metadata": {},
     "output_type": "execute_result"
    }
   ],
   "source": [
    "n = np.linspace(0,100, num=51, dtype=np.int32)\n",
    "n"
   ]
  },
  {
   "cell_type": "markdown",
   "metadata": {},
   "source": [
    "#### np.arange([start, ] stop, [step, ] dtype=None)\n",
    "\n",
    "创建一个指定数值范围内的数组；\n",
    "和Python中的range函数功能类似；\n",
    "\n",
    "参数：\n",
    "\n",
    "- start：起始值，默认为0；\n",
    "- stop：结束值；\n",
    "- step：步长，默认为1；\n",
    "- dtype：数据类型，默认为int；\n",
    "\n",
    "返回值：\n",
    "\n",
    "- ndarray：指定范围内的数组；"
   ]
  },
  {
   "cell_type": "code",
   "execution_count": 31,
   "metadata": {},
   "outputs": [
    {
     "data": {
      "text/plain": [
       "array([0, 1, 2, 3, 4, 5, 6, 7, 8, 9])"
      ]
     },
     "execution_count": 31,
     "metadata": {},
     "output_type": "execute_result"
    }
   ],
   "source": [
    "n = np.arange(10)\n",
    "n"
   ]
  },
  {
   "cell_type": "code",
   "execution_count": 32,
   "metadata": {},
   "outputs": [
    {
     "data": {
      "text/plain": [
       "array([10, 12, 14, 16, 18])"
      ]
     },
     "execution_count": 32,
     "metadata": {},
     "output_type": "execute_result"
    }
   ],
   "source": [
    "n = np.arange(10, 20, 2)\n",
    "n"
   ]
  },
  {
   "cell_type": "markdown",
   "metadata": {},
   "source": [
    "#### np.random.randint(low, high=None, size=None, dtype='l')\n",
    "\n",
    "创建一个随机整数的多维数组。\n",
    "\n",
    "注：\n",
    "\n",
    "指定最大最小值后，随机数的取值范围是一左闭右开的范围。\n",
    "\n",
    "参数：\n",
    "\n",
    "- low：整数，数组中的最小值。\n",
    "- high：整数，数组中的最大值。\n",
    "- size：整数或元组，数组的形状。\n",
    "- dtype：数据类型。\n",
    "\n",
    "返回：\n",
    "\n",
    "- ndarray：随机整数数组。\n"
   ]
  },
  {
   "cell_type": "code",
   "execution_count": 34,
   "metadata": {},
   "outputs": [
    {
     "data": {
      "text/plain": [
       "1"
      ]
     },
     "execution_count": 34,
     "metadata": {},
     "output_type": "execute_result"
    }
   ],
   "source": [
    "# 随机整数\n",
    "n = np.random.randint(low=0, high=10)\n",
    "n"
   ]
  },
  {
   "cell_type": "code",
   "execution_count": 38,
   "metadata": {},
   "outputs": [
    {
     "data": {
      "text/plain": [
       "array([[ 4,  7,  8],\n",
       "       [10,  9,  0],\n",
       "       [ 3,  3,  1],\n",
       "       [ 5,  2,  2]])"
      ]
     },
     "execution_count": 38,
     "metadata": {},
     "output_type": "execute_result"
    }
   ],
   "source": [
    "# 随机整数：指定形状\n",
    "n = np.random.randint(low=0, high=11, size=(4,3))\n",
    "n"
   ]
  },
  {
   "cell_type": "code",
   "execution_count": 42,
   "metadata": {},
   "outputs": [
    {
     "name": "stdout",
     "output_type": "stream",
     "text": [
      "n:[[[ 86 189 216]\n",
      "  [200 119 104]\n",
      "  [206 208 226]\n",
      "  ...\n",
      "  [ 56 135 129]\n",
      "  [ 56 190  74]\n",
      "  [110  53  56]]\n",
      "\n",
      " [[130 118  71]\n",
      "  [124 172 237]\n",
      "  [225 231  28]\n",
      "  ...\n",
      "  [174 203 179]\n",
      "  [223  92 254]\n",
      "  [ 54 193   6]]\n",
      "\n",
      " [[ 11 237   5]\n",
      "  [105 137 171]\n",
      "  [223 120 166]\n",
      "  ...\n",
      "  [247 145 248]\n",
      "  [112 102 163]\n",
      "  [ 87 120 103]]\n",
      "\n",
      " ...\n",
      "\n",
      " [[ 13 159  75]\n",
      "  [ 92 205 208]\n",
      "  [ 22 177   7]\n",
      "  ...\n",
      "  [222  72 116]\n",
      "  [203 120  87]\n",
      "  [131 111 168]]\n",
      "\n",
      " [[203  82 162]\n",
      "  [ 26 159  72]\n",
      "  [141 202 220]\n",
      "  ...\n",
      "  [ 47  70  56]\n",
      "  [188 200 176]\n",
      "  [243  29 213]]\n",
      "\n",
      " [[ 47 140 185]\n",
      "  [ 31  97 226]\n",
      "  [143  15 146]\n",
      "  ...\n",
      "  [150 105  79]\n",
      "  [132 191 174]\n",
      "  [227 197 150]]]\n"
     ]
    },
    {
     "data": {
      "text/plain": [
       "<matplotlib.image.AxesImage at 0x26152c6d2b0>"
      ]
     },
     "execution_count": 42,
     "metadata": {},
     "output_type": "execute_result"
    },
    {
     "data": {
      "image/png": "[encoded data removed]",
      "text/plain": [
       "<Figure size 640x480 with 1 Axes>"
      ]
     },
     "metadata": {},
     "output_type": "display_data"
    }
   ],
   "source": [
    "# 联动一下plt\n",
    "n = np.random.randint(low=0, high=256, size=(30, 40, 3))\n",
    "print(f'n:{n}')\n",
    "plt.imshow(n)"
   ]
  },
  {
   "cell_type": "markdown",
   "metadata": {},
   "source": [
    "#### np.random.randn(d0, d1, .., dn)\n",
    "\n",
    "创建一个服从**标准正态分布**的多维数组。\n",
    "\n",
    "参数：\n",
    "\n",
    "- d0, d1, ..., dn：数组的维度。"
   ]
  },
  {
   "cell_type": "code",
   "execution_count": 45,
   "metadata": {},
   "outputs": [
    {
     "data": {
      "text/plain": [
       "-0.1848627709260919"
      ]
     },
     "execution_count": 45,
     "metadata": {},
     "output_type": "execute_result"
    }
   ],
   "source": [
    "n = np.random.randn()\n",
    "n"
   ]
  },
  {
   "cell_type": "code",
   "execution_count": 47,
   "metadata": {},
   "outputs": [
    {
     "data": {
      "text/plain": [
       "array([ 0.0638573 ,  0.2450648 ,  0.55551613, -0.41004005,  0.61334534,\n",
       "       -0.75419554, -0.03363486,  0.77765589,  0.53107044, -0.77724949])"
      ]
     },
     "execution_count": 47,
     "metadata": {},
     "output_type": "execute_result"
    }
   ],
   "source": [
    "n = np.random.randn(10)\n",
    "n"
   ]
  },
  {
   "cell_type": "code",
   "execution_count": 48,
   "metadata": {},
   "outputs": [
    {
     "data": {
      "text/plain": [
       "array([[ 0.50014272, -0.09040127, -0.13164176, -0.7146096 ],\n",
       "       [-1.39712196, -1.80104193,  0.05642441, -0.80331483],\n",
       "       [ 1.97533725,  0.26447043, -1.37051665, -0.43337326]])"
      ]
     },
     "execution_count": 48,
     "metadata": {},
     "output_type": "execute_result"
    }
   ],
   "source": [
    "# 多维数组\n",
    "n = np.random.randn(3,4)\n",
    "n"
   ]
  },
  {
   "cell_type": "markdown",
   "metadata": {},
   "source": [
    "#### np.random.normal(loc=0.0, scale=1.0, size=None)\n",
    "\n",
    "创建一个服从自定义正态分布的多维数组。\n",
    "\n",
    "参数：\n",
    "\n",
    "- loc：均值，默认为0.0\n",
    "- scale：标准差，默认为1.0\n",
    "- size：数组大小，默认为None"
   ]
  },
  {
   "cell_type": "code",
   "execution_count": 49,
   "metadata": {},
   "outputs": [
    {
     "data": {
      "text/plain": [
       "-1.615797785720693"
      ]
     },
     "execution_count": 49,
     "metadata": {},
     "output_type": "execute_result"
    }
   ],
   "source": [
    "n = np.random.normal()  # 如果不修改就默认是标准正态分布\n",
    "n"
   ]
  },
  {
   "cell_type": "code",
   "execution_count": 52,
   "metadata": {},
   "outputs": [
    {
     "data": {
      "text/plain": [
       "array([[105.613574  ,  89.52649017,  94.89341327,  90.13272609],\n",
       "       [100.53706099,  80.14761867, 105.8598209 , 103.52534954],\n",
       "       [114.34100311,  95.99419102,  87.46529904,  91.40570733]])"
      ]
     },
     "execution_count": 52,
     "metadata": {},
     "output_type": "execute_result"
    }
   ],
   "source": [
    "n = np.random.normal(loc=100, scale=10, size=(3,4))\n",
    "n"
   ]
  },
  {
   "cell_type": "markdown",
   "metadata": {},
   "source": [
    "#### np.random.random(size=None)\n",
    "\n",
    "随机生成一个指定形状的数组，数组中的元素是[0,1)之间的随机数。\n",
    "\n",
    "参数：\n",
    "\n",
    "- size: 数组形状，默认为None，表示生成一个标量。"
   ]
  },
  {
   "cell_type": "code",
   "execution_count": 53,
   "metadata": {},
   "outputs": [
    {
     "data": {
      "text/plain": [
       "array([[0.41495179, 0.25901207, 0.02090034, 0.3917593 ],\n",
       "       [0.23013368, 0.86151277, 0.90509006, 0.61861786],\n",
       "       [0.31198822, 0.05775256, 0.09451912, 0.08066174]])"
      ]
     },
     "execution_count": 53,
     "metadata": {},
     "output_type": "execute_result"
    },
    {
     "ename": "",
     "evalue": "",
     "output_type": "error",
     "traceback": [
      "\u001b[1;31mThe Kernel crashed while executing code in the current cell or a previous cell. \n",
      "\u001b[1;31mPlease review the code in the cell(s) to identify a possible cause of the failure. \n",
      "\u001b[1;31mClick <a href='https://aka.ms/vscodeJupyterKernelCrash'>here</a> for more info. \n",
      "\u001b[1;31mView Jupyter <a href='command:jupyter.viewOutput'>log</a> for further details."
     ]
    }
   ],
   "source": [
    "n = np.random.random(size=(3,4))\n",
    "n"
   ]
  }
 ],
 "metadata": {
  "kernelspec": {
   "display_name": "Python 3",
   "language": "python",
   "name": "python3"
  },
  "language_info": {
   "codemirror_mode": {
    "name": "ipython",
    "version": 3
   },
   "file_extension": ".py",
   "mimetype": "text/x-python",
   "name": "python",
   "nbconvert_exporter": "python",
   "pygments_lexer": "ipython3",
   "version": "3.12.3"
  }
 },
 "nbformat": 4,
 "nbformat_minor": 2
}
