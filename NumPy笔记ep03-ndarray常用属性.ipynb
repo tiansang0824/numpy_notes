{
 "cells": [
  {
   "cell_type": "markdown",
   "metadata": {},
   "source": [
    "# NumPy笔记ep03-ndarray常用属性"
   ]
  },
  {
   "cell_type": "markdown",
   "metadata": {},
   "source": [
    "4个重要属性：\n",
    "\n",
    "- ndim：维度\n",
    "- shape：形状\n",
    "- size：元素个数\n",
    "- dtype：数据类型"
   ]
  },
  {
   "cell_type": "code",
   "execution_count": 1,
   "metadata": {},
   "outputs": [],
   "source": [
    "import numpy as np\n",
    "import pandas as pd\n",
    "import matplotlib.pyplot as plt"
   ]
  },
  {
   "cell_type": "code",
   "execution_count": 3,
   "metadata": {},
   "outputs": [
    {
     "data": {
      "text/plain": [
       "array([[[  2,  58, 169],\n",
       "        [  8,  73, 175],\n",
       "        [  7,  69, 172],\n",
       "        ...,\n",
       "        [  3,  69, 182],\n",
       "        [  3,  68, 184],\n",
       "        [ 13,  77, 177]],\n",
       "\n",
       "       [[ 18,  69, 178],\n",
       "        [ 16,  86, 181],\n",
       "        [ 10,  69, 173],\n",
       "        ...,\n",
       "        [  0,  49, 170],\n",
       "        [  3,  74, 178],\n",
       "        [  6,  74, 185]],\n",
       "\n",
       "       [[  5,  72, 176],\n",
       "        [  6,  62, 173],\n",
       "        [  4,  70, 164],\n",
       "        ...,\n",
       "        [  1,  75, 174],\n",
       "        [ 14,  82, 191],\n",
       "        [ 12,  87, 188]],\n",
       "\n",
       "       ...,\n",
       "\n",
       "       [[242, 252, 254],\n",
       "        [242, 252, 254],\n",
       "        [242, 252, 254],\n",
       "        ...,\n",
       "        [243, 253, 255],\n",
       "        [243, 253, 255],\n",
       "        [244, 252, 255]],\n",
       "\n",
       "       [[242, 252, 254],\n",
       "        [243, 253, 255],\n",
       "        [242, 252, 254],\n",
       "        ...,\n",
       "        [242, 252, 254],\n",
       "        [244, 252, 255],\n",
       "        [244, 252, 255]],\n",
       "\n",
       "       [[241, 252, 254],\n",
       "        [242, 253, 255],\n",
       "        [241, 252, 254],\n",
       "        ...,\n",
       "        [244, 252, 255],\n",
       "        [244, 252, 255],\n",
       "        [244, 252, 255]]], dtype=uint8)"
      ]
     },
     "execution_count": 3,
     "metadata": {},
     "output_type": "execute_result"
    }
   ],
   "source": [
    "ellen_joe = plt.imread('./resources/ellen_joe.jpg')\n",
    "\n",
    "ellen_joe"
   ]
  },
  {
   "cell_type": "code",
   "execution_count": 4,
   "metadata": {},
   "outputs": [
    {
     "data": {
      "text/plain": [
       "(2160, 3840, 3)"
      ]
     },
     "execution_count": 4,
     "metadata": {},
     "output_type": "execute_result"
    }
   ],
   "source": [
    "ellen_joe.shape"
   ]
  },
  {
   "cell_type": "markdown",
   "metadata": {},
   "source": [
    "对于上面的输出：\n",
    "\n",
    "```text\n",
    "(2160, 3840, 3)\n",
    "\n",
    "```\n",
    "\n",
    "每个数字分别表示一个维度，一共三个数字，说明一共有三维。\n"
   ]
  },
  {
   "cell_type": "code",
   "execution_count": 5,
   "metadata": {},
   "outputs": [
    {
     "data": {
      "text/plain": [
       "3"
      ]
     },
     "execution_count": 5,
     "metadata": {},
     "output_type": "execute_result"
    }
   ],
   "source": [
    "# 直接获取维度\n",
    "ellen_joe.ndim"
   ]
  },
  {
   "cell_type": "code",
   "execution_count": 7,
   "metadata": {},
   "outputs": [
    {
     "name": "stdout",
     "output_type": "stream",
     "text": [
      "总数据量：24883200\n",
      "2160*3840*3=24883200\n"
     ]
    }
   ],
   "source": [
    "# 获取总数据量\n",
    "print(f\"总数据量：{ellen_joe.size}\")\n",
    "print(f\"2160*3840*3={2160*3840*3}\")"
   ]
  },
  {
   "cell_type": "code",
   "execution_count": 8,
   "metadata": {},
   "outputs": [
    {
     "data": {
      "text/plain": [
       "dtype('uint8')"
      ]
     },
     "execution_count": 8,
     "metadata": {},
     "output_type": "execute_result"
    }
   ],
   "source": [
    "ellen_joe.dtype  # 元素类型"
   ]
  },
  {
   "cell_type": "code",
   "execution_count": null,
   "metadata": {},
   "outputs": [],
   "source": []
  }
 ],
 "metadata": {
  "kernelspec": {
   "display_name": "Python 3",
   "language": "python",
   "name": "python3"
  },
  "language_info": {
   "codemirror_mode": {
    "name": "ipython",
    "version": 3
   },
   "file_extension": ".py",
   "mimetype": "text/x-python",
   "name": "python",
   "nbconvert_exporter": "python",
   "pygments_lexer": "ipython3",
   "version": "3.12.3"
  }
 },
 "nbformat": 4,
 "nbformat_minor": 2
}
